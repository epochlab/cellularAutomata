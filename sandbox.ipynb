{
 "cells": [
  {
   "cell_type": "code",
   "execution_count": 183,
   "metadata": {},
   "outputs": [],
   "source": [
    "import random, time\n",
    "import numpy as np\n",
    "import matplotlib.pyplot as plt"
   ]
  },
  {
   "cell_type": "code",
   "execution_count": 184,
   "metadata": {},
   "outputs": [],
   "source": [
    "init = open('lexicon/centinal.txt').readlines()"
   ]
  },
  {
   "cell_type": "code",
   "execution_count": 185,
   "metadata": {},
   "outputs": [
    {
     "data": {
      "text/plain": [
       "<matplotlib.image.AxesImage at 0x7f870881cee0>"
      ]
     },
     "execution_count": 185,
     "metadata": {},
     "output_type": "execute_result"
    },
    {
     "data": {
      "image/png": "[encoded data removed]",
      "text/plain": [
       "<Figure size 640x480 with 1 Axes>"
      ]
     },
     "metadata": {},
     "output_type": "display_data"
    }
   ],
   "source": [
    "height = len(init)\n",
    "for k in init: width = len(k)\n",
    "\n",
    "matrix = np.zeros([height, width])\n",
    "\n",
    "for row, line in enumerate(init):\n",
    "    for col, char in enumerate(line.strip()):\n",
    "        if char == '.':\n",
    "            matrix[row, col] = 0\n",
    "        else:\n",
    "            matrix[row, col] = 1\n",
    "\n",
    "plt.imshow(matrix, cmap='gray')"
   ]
  },
  {
   "cell_type": "code",
   "execution_count": 186,
   "metadata": {},
   "outputs": [],
   "source": [
    "next_state = np.copy(matrix)"
   ]
  },
  {
   "cell_type": "code",
   "execution_count": 195,
   "metadata": {},
   "outputs": [
    {
     "name": "stdout",
     "output_type": "stream",
     "text": [
      "(17, 52)\n"
     ]
    },
    {
     "data": {
      "text/plain": [
       "([], [])"
      ]
     },
     "execution_count": 195,
     "metadata": {},
     "output_type": "execute_result"
    },
    {
     "data": {
      "image/png": "[encoded data removed]",
      "text/plain": [
       "<Figure size 640x480 with 1 Axes>"
      ]
     },
     "metadata": {},
     "output_type": "display_data"
    }
   ],
   "source": [
    "steps = 1\n",
    "\n",
    "for step in range(steps):\n",
    "    state = np.copy(next_state)\n",
    "    for yid, y in enumerate(state):\n",
    "            for xid, x in enumerate(y):\n",
    "\n",
    "                # Co-ordinates\n",
    "                n = state[yid-1][xid] if yid-1 >= 0 else 0.0\n",
    "                s = state[yid+1][xid] if yid+1 < state.shape[0] else 0.0\n",
    "                e = state[yid][xid+1] if xid+1 < state.shape[1] else 0.0\n",
    "                w = state[yid][xid-1] if xid-1 >= 0 else 0.0\n",
    "                ne = state[yid-1][xid+1] if yid-1 >= 0 and xid+1 < state.shape[1] else 0.0\n",
    "                nw = state[yid-1][xid-1] if yid-1 >= 0 and xid-1 >= 0 else 0.0\n",
    "                se = state[yid+1][xid+1] if yid+1 < state.shape[0] and xid+1 < state.shape[1] else 0.0\n",
    "                sw = state[yid+1][xid-1] if yid+1 < state.shape[0] and xid-1 >= 0 else 0.0\n",
    "\n",
    "                # Sum neighbours\n",
    "                neighbours = np.sum([n, s, e, w, ne, nw, se, sw])\n",
    "\n",
    "                # Game of Life - Update State\n",
    "                if state[yid, xid] == 0 and neighbours == 3: # Reproduction\n",
    "                    next_state[yid, xid] = 1\n",
    "                elif state[yid, xid] == 1 and neighbours < 2: # Underpopulation\n",
    "                    next_state[yid, xid] = 0\n",
    "                elif state[yid, xid] == 1 and neighbours > 3: # Overpopulation\n",
    "                    next_state[yid, xid] = 0\n",
    "                elif state[yid, xid] == 1 and neighbours == 2 or neighbours == 3: # Next Generation\n",
    "                    next_state[yid, xid] = 1\n",
    "                else:\n",
    "                    next_state[yid, xid] = 0 # Clear\n",
    "                \n",
    "    break\n",
    "\n",
    "print(next_state.shape)\n",
    "\n",
    "plt.imshow(next_state, cmap='gray')\n",
    "plt.xticks([])\n",
    "plt.yticks([])"
   ]
  }
 ],
 "metadata": {
  "kernelspec": {
   "display_name": "Python 3.9.13 ('dev')",
   "language": "python",
   "name": "python3"
  },
  "language_info": {
   "codemirror_mode": {
    "name": "ipython",
    "version": 3
   },
   "file_extension": ".py",
   "mimetype": "text/x-python",
   "name": "python",
   "nbconvert_exporter": "python",
   "pygments_lexer": "ipython3",
   "version": "3.10.8"
  },
  "orig_nbformat": 4,
  "vscode": {
   "interpreter": {
    "hash": "e22c083f026c7769b83b8857fa3ac4d22c31dd61e89868550b0afe4a500a3cf3"
   }
  }
 },
 "nbformat": 4,
 "nbformat_minor": 2
}
